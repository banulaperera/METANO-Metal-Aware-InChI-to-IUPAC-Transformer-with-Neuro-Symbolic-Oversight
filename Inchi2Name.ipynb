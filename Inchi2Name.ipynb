{
  "nbformat": 4,
  "nbformat_minor": 0,
  "metadata": {
    "colab": {
      "provenance": [],
      "authorship_tag": "ABX9TyNrxFHSY3Or7y3xUILbx7tC",
      "include_colab_link": true
    },
    "kernelspec": {
      "name": "python3",
      "display_name": "Python 3"
    },
    "language_info": {
      "name": "python"
    }
  },
  "cells": [
    {
      "cell_type": "markdown",
      "metadata": {
        "id": "view-in-github",
        "colab_type": "text"
      },
      "source": [
        "<a href=\"https://colab.research.google.com/github/banulaperera/Inchi2Name/blob/model_dev/Inchi2Name.ipynb\" target=\"_parent\"><img src=\"https://colab.research.google.com/assets/colab-badge.svg\" alt=\"Open In Colab\"/></a>"
      ]
    },
    {
      "cell_type": "code",
      "source": [
        "!pip install rdkit"
      ],
      "metadata": {
        "id": "DsceIjc5YLte"
      },
      "execution_count": null,
      "outputs": []
    },
    {
      "cell_type": "code",
      "execution_count": null,
      "metadata": {
        "id": "RnwX7ekI-Qjt"
      },
      "outputs": [],
      "source": [
        "import torch\n",
        "import torch.nn as nn\n",
        "import torch.nn.functional as F\n",
        "from torch.utils.data import Dataset, DataLoader\n",
        "from dataclasses import dataclass\n",
        "from typing import List, Tuple, Dict\n",
        "\n",
        "# RDKit for chemistry (pip install rdkit)\n",
        "try:\n",
        "    from rdkit import Chem\n",
        "    from rdkit.Chem import Descriptors\n",
        "except ImportError:\n",
        "    Chem = None\n",
        "    print(\"Warning: RDKit not found. Chemical validation disabled.\")"
      ]
    },
    {
      "cell_type": "code",
      "source": [
        "@dataclass\n",
        "class NeuroSymbolicConfig:\n",
        "    vocab_size: int = 128\n",
        "    d_model: int = 512\n",
        "    n_heads: int = 8\n",
        "    n_layers: int = 6\n",
        "    max_seq_length: int = 128\n",
        "    dropout: float = 0.12\n",
        "    beam_width: int = 4\n",
        "    neural_weight: float = 0.7\n",
        "    grammar_weight: float = 0.2\n",
        "    chem_weight: float = 0.1"
      ],
      "metadata": {
        "id": "sTeQBWzFYW1u"
      },
      "execution_count": null,
      "outputs": []
    },
    {
      "cell_type": "code",
      "source": [
        "@dataclass\n",
        "class ValidationResult:\n",
        "    valid: bool\n",
        "    confidence: float\n",
        "    errors: List[str]\n",
        "    suggestions: List[str]\n",
        "    chemical_confidence: float"
      ],
      "metadata": {
        "id": "-RUHMMHXYiSl"
      },
      "execution_count": null,
      "outputs": []
    }
  ]
}